{
 "cells": [
  {
   "attachments": {},
   "cell_type": "markdown",
   "metadata": {},
   "source": [
    "## Load packages"
   ]
  },
  {
   "cell_type": "code",
   "execution_count": 1,
   "metadata": {},
   "outputs": [],
   "source": [
    "from torch.utils.data import DataLoader\n",
    "from warnings import simplefilter\n",
    "import matplotlib.pyplot as plt\n",
    "from dataloader import *\n",
    "from Trainer import *\n",
    "import pandas as pd\n",
    "import numpy as np\n",
    "from ANN_Models import *\n",
    "import torch\n",
    "\n",
    "simplefilter(action='ignore', category=pd.errors.ParserWarning)\n",
    "simplefilter(action='ignore', category=UserWarning)\n",
    "simplefilter(action='ignore', category=FutureWarning)"
   ]
  },
  {
   "attachments": {},
   "cell_type": "markdown",
   "metadata": {},
   "source": [
    "## Non-Linear"
   ]
  },
  {
   "cell_type": "code",
   "execution_count": 2,
   "metadata": {},
   "outputs": [],
   "source": [
    "data = DATA(na=0, nb=15) # Takes +- 15 seconds to load the data due to size of input for Xtrain and Ytrain\n",
    "Xtrain, Ytrain = data.Xtrain, data.Ytrain\n",
    "\n",
    "# Load data and set them up correctly for dataloader\n",
    "Dataset_train, Dataset_val, Dataset_test = CustomDataset(Xtrain.to_numpy(), Ytrain.to_numpy()).split_data([0.8, 0.199, 0.001])\n",
    "dl_train = DataLoader(Dataset_train, batch_size=32, shuffle=True)\n",
    "dl_val = DataLoader(Dataset_val, batch_size=32, shuffle=True)\n",
    "dl_test = DataLoader(Dataset_test, batch_size=32, shuffle=True)"
   ]
  },
  {
   "cell_type": "code",
   "execution_count": 3,
   "metadata": {},
   "outputs": [
    {
     "data": {
      "text/plain": [
       "NonLinear(\n",
       "  (fc1): Sequential(\n",
       "    (0): LazyLinear(in_features=0, out_features=5, bias=True)\n",
       "    (1): LeakyReLU(negative_slope=0.01)\n",
       "    (2): Linear(in_features=5, out_features=1, bias=True)\n",
       "  )\n",
       ")"
      ]
     },
     "execution_count": 3,
     "metadata": {},
     "output_type": "execute_result"
    }
   ],
   "source": [
    "model = NonLinear(5)\n",
    "\n",
    "# Show model summary\n",
    "model"
   ]
  },
  {
   "cell_type": "code",
   "execution_count": 4,
   "metadata": {},
   "outputs": [
    {
     "name": "stdout",
     "output_type": "stream",
     "text": [
      "The device that will be used in training is Quadro P1000\n"
     ]
    }
   ],
   "source": [
    "train_module = Trainer(model, dl_train, dl_val, dl_test, 'savefolderpytorch\\\\Non-Linear')"
   ]
  },
  {
   "cell_type": "code",
   "execution_count": 5,
   "metadata": {},
   "outputs": [
    {
     "name": "stdout",
     "output_type": "stream",
     "text": [
      "Epoch 1\n"
     ]
    },
    {
     "name": "stderr",
     "output_type": "stream",
     "text": [
      "Training: 100%|██████████| 2000/2000 [00:09<00:00, 217.41it/s, loss=0.0955]\n",
      "Validation: 100%|██████████| 498/498 [00:01<00:00, 384.26it/s, loss=0.0682]"
     ]
    },
    {
     "name": "stdout",
     "output_type": "stream",
     "text": [
      "Validation loss is 0.0002426061829821623\n",
      "Epoch 2\n"
     ]
    },
    {
     "name": "stderr",
     "output_type": "stream",
     "text": [
      "\n",
      "Training: 100%|██████████| 2000/2000 [00:07<00:00, 254.15it/s, loss=0.0841]\n",
      "Validation: 100%|██████████| 498/498 [00:01<00:00, 274.68it/s, loss=0.0534]\n"
     ]
    },
    {
     "name": "stdout",
     "output_type": "stream",
     "text": [
      "Validation loss is 0.00024042521157864935\n",
      "Epoch 3\n"
     ]
    },
    {
     "name": "stderr",
     "output_type": "stream",
     "text": [
      "Training: 100%|██████████| 2000/2000 [00:08<00:00, 249.76it/s, loss=0.0747]\n",
      "Validation: 100%|██████████| 498/498 [00:01<00:00, 372.45it/s, loss=0.151] "
     ]
    },
    {
     "name": "stdout",
     "output_type": "stream",
     "text": [
      "Validation loss is 0.00024106253136907537\n",
      "Epoch 4\n"
     ]
    },
    {
     "name": "stderr",
     "output_type": "stream",
     "text": [
      "\n",
      "Training: 100%|██████████| 2000/2000 [00:07<00:00, 254.38it/s, loss=0.0818]\n",
      "Validation: 100%|██████████| 498/498 [00:01<00:00, 358.01it/s, loss=0.0742]"
     ]
    },
    {
     "name": "stdout",
     "output_type": "stream",
     "text": [
      "Validation loss is 0.00024085903527605883\n",
      "Epoch 5\n"
     ]
    },
    {
     "name": "stderr",
     "output_type": "stream",
     "text": [
      "\n",
      "Training: 100%|██████████| 2000/2000 [00:14<00:00, 140.81it/s, loss=0.0742]\n",
      "Validation: 100%|██████████| 498/498 [00:01<00:00, 315.19it/s, loss=0.108] "
     ]
    },
    {
     "name": "stdout",
     "output_type": "stream",
     "text": [
      "Validation loss is 0.00024011721373543127\n",
      "Epoch 6\n"
     ]
    },
    {
     "name": "stderr",
     "output_type": "stream",
     "text": [
      "\n",
      "Training: 100%|██████████| 2000/2000 [00:08<00:00, 232.72it/s, loss=0.0986]\n",
      "Validation: 100%|██████████| 498/498 [00:01<00:00, 349.97it/s, loss=0.0439]\n"
     ]
    },
    {
     "name": "stdout",
     "output_type": "stream",
     "text": [
      "Validation loss is 0.00024069926123369435\n",
      "Epoch 7\n"
     ]
    },
    {
     "name": "stderr",
     "output_type": "stream",
     "text": [
      "Training: 100%|██████████| 2000/2000 [00:07<00:00, 250.18it/s, loss=0.128] \n",
      "Validation: 100%|██████████| 498/498 [00:01<00:00, 313.41it/s, loss=0.124] "
     ]
    },
    {
     "name": "stdout",
     "output_type": "stream",
     "text": [
      "Validation loss is 0.0002408158667074942\n",
      "Epoch 8\n"
     ]
    },
    {
     "name": "stderr",
     "output_type": "stream",
     "text": [
      "\n",
      "Training: 100%|██████████| 2000/2000 [00:08<00:00, 238.30it/s, loss=0.155] \n",
      "Validation: 100%|██████████| 498/498 [00:01<00:00, 299.10it/s, loss=0.178] "
     ]
    },
    {
     "name": "stdout",
     "output_type": "stream",
     "text": [
      "Validation loss is 0.0002406063609619402\n",
      "Epoch 9\n"
     ]
    },
    {
     "name": "stderr",
     "output_type": "stream",
     "text": [
      "\n",
      "Training: 100%|██████████| 2000/2000 [00:08<00:00, 233.54it/s, loss=0.158] \n",
      "Validation: 100%|██████████| 498/498 [00:01<00:00, 397.45it/s, loss=0.0857]"
     ]
    },
    {
     "name": "stdout",
     "output_type": "stream",
     "text": [
      "Validation loss is 0.00024074242781947517\n",
      "Epoch 10\n"
     ]
    },
    {
     "name": "stderr",
     "output_type": "stream",
     "text": [
      "\n",
      "Training: 100%|██████████| 2000/2000 [00:07<00:00, 271.38it/s, loss=0.0916]\n",
      "Validation: 100%|██████████| 498/498 [00:01<00:00, 392.28it/s, loss=0.0926]\n"
     ]
    },
    {
     "name": "stdout",
     "output_type": "stream",
     "text": [
      "Validation loss is 0.00024095677287941473\n"
     ]
    }
   ],
   "source": [
    "train_module.fit(epochs=10, batch_size=32)\n",
    "train_module.save_model()"
   ]
  },
  {
   "attachments": {},
   "cell_type": "markdown",
   "metadata": {},
   "source": [
    "Overall conclusion not a great model but it works, Error does not seem to drop below 0.024% with 15 inputs"
   ]
  },
  {
   "attachments": {},
   "cell_type": "markdown",
   "metadata": {},
   "source": [
    "## ANN"
   ]
  },
  {
   "cell_type": "code",
   "execution_count": 6,
   "metadata": {},
   "outputs": [],
   "source": [
    "data = DATA(15, 15) # Takes +- 15 seconds to load the data due to size of input for Xtrain and Ytrain\n",
    "Xtrain, Ytrain = data.Xtrain, data.Ytrain\n",
    "\n",
    "# Load data and set them up correctly for dataloader\n",
    "Dataset_train, Dataset_val, Dataset_test = CustomDataset(Xtrain.to_numpy(), Ytrain.to_numpy()).split_data([0.8, 0.199, 0.001])\n",
    "dl_train = DataLoader(Dataset_train, batch_size=32, shuffle=True)\n",
    "dl_val = DataLoader(Dataset_val, batch_size=32, shuffle=True)\n",
    "dl_test = DataLoader(Dataset_test, batch_size=32, shuffle=True)"
   ]
  },
  {
   "cell_type": "code",
   "execution_count": 7,
   "metadata": {},
   "outputs": [
    {
     "data": {
      "text/plain": [
       "NARX(\n",
       "  (fc1): Sequential(\n",
       "    (0): LazyLinear(in_features=0, out_features=5, bias=True)\n",
       "    (1): LeakyReLU(negative_slope=0.01)\n",
       "    (2): Linear(in_features=5, out_features=1, bias=True)\n",
       "  )\n",
       ")"
      ]
     },
     "execution_count": 7,
     "metadata": {},
     "output_type": "execute_result"
    }
   ],
   "source": [
    "model = NARX(5)\n",
    "\n",
    "# Show model summary\n",
    "model"
   ]
  },
  {
   "cell_type": "code",
   "execution_count": 8,
   "metadata": {},
   "outputs": [
    {
     "name": "stdout",
     "output_type": "stream",
     "text": [
      "The device that will be used in training is Quadro P1000\n"
     ]
    }
   ],
   "source": [
    "train_module = Trainer(model, dl_train, dl_val, dl_test, DIR='savefolderpytorch\\\\NARX')"
   ]
  },
  {
   "cell_type": "code",
   "execution_count": 9,
   "metadata": {},
   "outputs": [
    {
     "name": "stdout",
     "output_type": "stream",
     "text": [
      "Epoch 1\n"
     ]
    },
    {
     "name": "stderr",
     "output_type": "stream",
     "text": [
      "Training: 100%|██████████| 2000/2000 [00:09<00:00, 209.80it/s, loss=0.000348]\n",
      "Validation: 100%|██████████| 498/498 [00:01<00:00, 346.80it/s, loss=0.00621] "
     ]
    },
    {
     "name": "stdout",
     "output_type": "stream",
     "text": [
      "Validation loss is 5.333528768564562e-06\n",
      "Epoch 2\n"
     ]
    },
    {
     "name": "stderr",
     "output_type": "stream",
     "text": [
      "\n",
      "Training: 100%|██████████| 2000/2000 [00:08<00:00, 233.41it/s, loss=0.00112] \n",
      "Validation: 100%|██████████| 498/498 [00:01<00:00, 304.58it/s, loss=0.00143] "
     ]
    },
    {
     "name": "stdout",
     "output_type": "stream",
     "text": [
      "Validation loss is 2.0871289771008938e-06\n",
      "Epoch 3\n"
     ]
    },
    {
     "name": "stderr",
     "output_type": "stream",
     "text": [
      "\n",
      "Training: 100%|██████████| 2000/2000 [00:08<00:00, 232.56it/s, loss=0.000112]\n",
      "Validation: 100%|██████████| 498/498 [00:01<00:00, 307.97it/s, loss=0.000192]"
     ]
    },
    {
     "name": "stdout",
     "output_type": "stream",
     "text": [
      "Validation loss is 1.293368217354797e-06\n",
      "Epoch 4\n"
     ]
    },
    {
     "name": "stderr",
     "output_type": "stream",
     "text": [
      "\n",
      "Training: 100%|██████████| 2000/2000 [00:08<00:00, 234.23it/s, loss=0.000173]\n",
      "Validation: 100%|██████████| 498/498 [00:01<00:00, 307.36it/s, loss=0.000216]"
     ]
    },
    {
     "name": "stdout",
     "output_type": "stream",
     "text": [
      "Validation loss is 8.860305285412926e-07\n",
      "Epoch 5\n"
     ]
    },
    {
     "name": "stderr",
     "output_type": "stream",
     "text": [
      "\n",
      "Training: 100%|██████████| 2000/2000 [00:08<00:00, 231.21it/s, loss=0.000282]\n",
      "Validation: 100%|██████████| 498/498 [00:01<00:00, 307.98it/s, loss=0.000131]"
     ]
    },
    {
     "name": "stdout",
     "output_type": "stream",
     "text": [
      "Validation loss is 5.65008255628045e-07\n",
      "Epoch 6\n"
     ]
    },
    {
     "name": "stderr",
     "output_type": "stream",
     "text": [
      "\n",
      "Training: 100%|██████████| 2000/2000 [00:08<00:00, 228.45it/s, loss=0.000217]\n",
      "Validation: 100%|██████████| 498/498 [00:01<00:00, 310.09it/s, loss=0.000349]"
     ]
    },
    {
     "name": "stdout",
     "output_type": "stream",
     "text": [
      "Validation loss is 4.139786670519877e-07\n",
      "Epoch 7\n"
     ]
    },
    {
     "name": "stderr",
     "output_type": "stream",
     "text": [
      "\n",
      "Training: 100%|██████████| 2000/2000 [00:08<00:00, 230.07it/s, loss=0.000149]\n",
      "Validation: 100%|██████████| 498/498 [00:01<00:00, 367.53it/s, loss=5.9e-5]  "
     ]
    },
    {
     "name": "stdout",
     "output_type": "stream",
     "text": [
      "Validation loss is 3.4423072102834387e-07\n",
      "Epoch 8\n"
     ]
    },
    {
     "name": "stderr",
     "output_type": "stream",
     "text": [
      "\n",
      "Training: 100%|██████████| 2000/2000 [00:08<00:00, 244.03it/s, loss=0.000217]\n",
      "Validation: 100%|██████████| 498/498 [00:01<00:00, 304.39it/s, loss=0.000222]"
     ]
    },
    {
     "name": "stdout",
     "output_type": "stream",
     "text": [
      "Validation loss is 3.169140396659711e-07\n",
      "Epoch 9\n"
     ]
    },
    {
     "name": "stderr",
     "output_type": "stream",
     "text": [
      "\n",
      "Training: 100%|██████████| 2000/2000 [00:07<00:00, 250.00it/s, loss=0.00011] \n",
      "Validation: 100%|██████████| 498/498 [00:01<00:00, 356.73it/s, loss=9.15e-5] "
     ]
    },
    {
     "name": "stdout",
     "output_type": "stream",
     "text": [
      "Validation loss is 2.7298452385633257e-07\n",
      "Epoch 10\n"
     ]
    },
    {
     "name": "stderr",
     "output_type": "stream",
     "text": [
      "\n",
      "Training: 100%|██████████| 2000/2000 [00:07<00:00, 254.43it/s, loss=0.000106]\n",
      "Validation: 100%|██████████| 498/498 [00:01<00:00, 358.39it/s, loss=0.000118]\n"
     ]
    },
    {
     "name": "stdout",
     "output_type": "stream",
     "text": [
      "Validation loss is 4.737924390009886e-07\n"
     ]
    }
   ],
   "source": [
    "train_module.fit(epochs=10, batch_size=32)\n",
    "train_module.save_model()"
   ]
  },
  {
   "attachments": {},
   "cell_type": "markdown",
   "metadata": {},
   "source": [
    "Multiple model training and testing"
   ]
  },
  {
   "cell_type": "code",
   "execution_count": 10,
   "metadata": {},
   "outputs": [],
   "source": [
    "# Test appropriate model outfeatures\n",
    "# for i in range(1, 11):\n",
    "#     model = NARX(i)\n",
    "#     model.name = f'ANN_{i}'\n",
    "#     train_module = Trainer(model, dl_train, dl_val, dl_test)\n",
    "#     train_module.fit(epochs=5, batch_size=64) # Increase batch size to 64\n",
    "#     train_module.save_model()"
   ]
  },
  {
   "cell_type": "code",
   "execution_count": 11,
   "metadata": {},
   "outputs": [],
   "source": [
    "# for i in range(1, 11):\n",
    "#     res1 = zip(pd.read_csv(f'savefolderpytorch\\\\train_ANN_{i}.csv').groupby('epoch').mean()['loss'], pd.read_csv(f'savefolderpytorch\\\\val_ANN_{i}.csv')['loss'])\n",
    "#     list_object = np.empty(shape=(5, 2))\n",
    "#     for j in range(5):\n",
    "#         list_object[j,:] = next(res1)\n",
    "#     list_object\n",
    "\n",
    "#     x = np.linspace(1, 5, 5)\n",
    "#     train = list_object[:,0]\n",
    "#     val = list_object[:,1]\n",
    "#     plt.semilogy(x, train, label='train')\n",
    "#     plt.semilogy(x, val, label='val')\n",
    "#     plt.title(f\"number of hidden layers = {i}\")\n",
    "#     plt.legend()\n",
    "#     plt.show()"
   ]
  },
  {
   "attachments": {},
   "cell_type": "markdown",
   "metadata": {},
   "source": [
    "## NOE"
   ]
  },
  {
   "cell_type": "code",
   "execution_count": 12,
   "metadata": {},
   "outputs": [],
   "source": [
    "data = DATA(UseOE=True) # Takes +- 10 seconds to load the data due to size of input for Xtrain and Ytrain\n",
    "Xtrain, Ytrain = data.Xtrain, data.Ytrain\n",
    "Xtrain, Xval, Ytrain, Yval = Xtrain[71900:], Xtrain[:71900], Ytrain[71900:], Ytrain[:71900]\n",
    "# Might need a different dataloader for this\n",
    "\n",
    "\n",
    "# Load data and set them up correctly for dataloader\n",
    "# Dataset_train, Dataset_val, Dataset_test = CustomDataset(Xtrain, Ytrain).split_data([0.8, 0.199, 0.001])\n",
    "# dl_train = DataLoader(Dataset_train, batch_size=32, shuffle=True)\n",
    "# dl_val = DataLoader(Dataset_val, batch_size=32, shuffle=True)\n",
    "# dl_test = DataLoader(Dataset_test, batch_size=32, shuffle=True)"
   ]
  },
  {
   "cell_type": "code",
   "execution_count": 13,
   "metadata": {},
   "outputs": [
    {
     "data": {
      "text/plain": [
       "RNN(\n",
       "  (H2H): Sequential(\n",
       "    (0): Linear(in_features=16, out_features=40, bias=True)\n",
       "    (1): LeakyReLU(negative_slope=0.01)\n",
       "    (2): Linear(in_features=40, out_features=15, bias=True)\n",
       "  )\n",
       "  (H2O): Sequential(\n",
       "    (0): Linear(in_features=16, out_features=40, bias=True)\n",
       "    (1): LeakyReLU(negative_slope=0.01)\n",
       "    (2): Linear(in_features=40, out_features=1, bias=True)\n",
       "  )\n",
       ")"
      ]
     },
     "execution_count": 13,
     "metadata": {},
     "output_type": "execute_result"
    }
   ],
   "source": [
    "model = RNN(hidden_size=15)\n",
    "\n",
    "# Show model summary\n",
    "model"
   ]
  },
  {
   "cell_type": "code",
   "execution_count": 14,
   "metadata": {},
   "outputs": [],
   "source": [
    "# train_module = Trainer(model, dl_train, dl_val, dl_test, DIR='savefolderpytorch\\\\NOE')"
   ]
  },
  {
   "cell_type": "code",
   "execution_count": 15,
   "metadata": {},
   "outputs": [],
   "source": [
    "# train_module.fit(epochs=10, batch_size=32)\n",
    "# train_module.save_model()"
   ]
  },
  {
   "cell_type": "code",
   "execution_count": 17,
   "metadata": {},
   "outputs": [
    {
     "name": "stdout",
     "output_type": "stream",
     "text": [
      "epoch=0, Validation NRMS=24.14%, Train NRMS=24.43%\n",
      "epoch=1, Validation NRMS=24.08%, Train NRMS=23.69%\n",
      "epoch=2, Validation NRMS=21.04%, Train NRMS=20.57%\n",
      "epoch=3, Validation NRMS=26.62%, Train NRMS=27.16%\n",
      "epoch=4, Validation NRMS=20.74%, Train NRMS=20.07%\n",
      "epoch=5, Validation NRMS=20.74%, Train NRMS=20.31%\n",
      "epoch=6, Validation NRMS=20.41%, Train NRMS=19.78%\n",
      "epoch=7, Validation NRMS=21.44%, Train NRMS=20.84%\n",
      "epoch=8, Validation NRMS=20.37%, Train NRMS=19.66%\n",
      "epoch=9, Validation NRMS=21.64%, Train NRMS=21.23%\n",
      "epoch=10, Validation NRMS=31.81%, Train NRMS=32.00%\n",
      "epoch=11, Validation NRMS=21.05%, Train NRMS=20.45%\n",
      "epoch=12, Validation NRMS=20.67%, Train NRMS=19.78%\n",
      "epoch=13, Validation NRMS=21.03%, Train NRMS=20.21%\n",
      "epoch=14, Validation NRMS=20.78%, Train NRMS=20.08%\n",
      "epoch=15, Validation NRMS=20.66%, Train NRMS=19.89%\n",
      "epoch=16, Validation NRMS=20.47%, Train NRMS=19.47%\n",
      "epoch=17, Validation NRMS=20.71%, Train NRMS=19.79%\n",
      "epoch=18, Validation NRMS=20.21%, Train NRMS=19.28%\n",
      "epoch=19, Validation NRMS=20.24%, Train NRMS=19.28%\n",
      "epoch=20, Validation NRMS=20.46%, Train NRMS=19.45%\n",
      "epoch=21, Validation NRMS=22.07%, Train NRMS=21.30%\n",
      "epoch=22, Validation NRMS=21.04%, Train NRMS=20.26%\n",
      "epoch=23, Validation NRMS=20.71%, Train NRMS=19.76%\n",
      "epoch=24, Validation NRMS=20.66%, Train NRMS=19.71%\n",
      "epoch=25, Validation NRMS=20.26%, Train NRMS=19.14%\n",
      "epoch=26, Validation NRMS=20.48%, Train NRMS=19.34%\n",
      "epoch=27, Validation NRMS=20.67%, Train NRMS=19.50%\n",
      "epoch=28, Validation NRMS=20.33%, Train NRMS=19.07%\n",
      "epoch=29, Validation NRMS=21.31%, Train NRMS=20.41%\n",
      "epoch=30, Validation NRMS=20.45%, Train NRMS=19.19%\n",
      "epoch=31, Validation NRMS=22.50%, Train NRMS=21.29%\n",
      "epoch=32, Validation NRMS=20.71%, Train NRMS=19.59%\n",
      "epoch=33, Validation NRMS=21.05%, Train NRMS=20.04%\n",
      "epoch=34, Validation NRMS=20.23%, Train NRMS=18.81%\n",
      "epoch=35, Validation NRMS=21.08%, Train NRMS=19.87%\n",
      "epoch=36, Validation NRMS=20.94%, Train NRMS=19.69%\n",
      "epoch=37, Validation NRMS=21.97%, Train NRMS=21.03%\n",
      "epoch=38, Validation NRMS=21.62%, Train NRMS=20.49%\n",
      "epoch=39, Validation NRMS=22.15%, Train NRMS=20.81%\n",
      "epoch=40, Validation NRMS=20.34%, Train NRMS=18.74%\n",
      "epoch=41, Validation NRMS=41.00%, Train NRMS=41.58%\n",
      "epoch=42, Validation NRMS=20.85%, Train NRMS=19.45%\n",
      "epoch=43, Validation NRMS=20.73%, Train NRMS=19.31%\n",
      "epoch=44, Validation NRMS=23.29%, Train NRMS=22.59%\n",
      "epoch=45, Validation NRMS=20.77%, Train NRMS=19.24%\n",
      "epoch=46, Validation NRMS=20.53%, Train NRMS=18.81%\n",
      "epoch=47, Validation NRMS=21.65%, Train NRMS=20.28%\n",
      "epoch=48, Validation NRMS=20.65%, Train NRMS=18.95%\n",
      "epoch=49, Validation NRMS=22.87%, Train NRMS=21.30%\n"
     ]
    }
   ],
   "source": [
    "n_burn = 10\n",
    "batch_size = 64\n",
    "\n",
    "model = RNN(hidden_size=15) #d=)\n",
    "optimizer = torch.optim.Adam(model.parameters()) #d=)\n",
    "\n",
    "\n",
    "ids = np.arange(len(Xtrain),dtype=int) \n",
    "for epoch in range(50):\n",
    "    np.random.shuffle(ids) #inspace shuffle of the ids of the trainin set to select a random subset \n",
    "    for i in range(0,len(Xtrain),batch_size):\n",
    "        ids_now = ids[i:i+batch_size] #the ids of the current batch\n",
    "        Uin = Xtrain[ids_now] #d)\n",
    "        Y_real = Ytrain[ids_now] #d)\n",
    "\n",
    "        Y_predict = model.forward(inputs=Uin) #d)\n",
    "        residual = Y_real - Y_predict #d)\n",
    "        Loss = torch.mean(residual[:,n_burn:]**2) #d)\n",
    "        \n",
    "        optimizer.zero_grad()  #d)\n",
    "        Loss.backward()  #d)\n",
    "        optimizer.step()  #d)\n",
    "    \n",
    "    with torch.no_grad(): #monitor\n",
    "        Loss_val = torch.mean((model(inputs=Xval)[:,n_burn:] - Yval[:,n_burn:])**2)**0.5\n",
    "        Loss_train = torch.mean((model(inputs=Xtrain)[:,n_burn:] - Ytrain[:,n_burn:])**2)**0.5\n",
    "        print(f'epoch={epoch}, Validation NRMS={Loss_val.item():.2%}, Train NRMS={Loss_train.item():.2%}')"
   ]
  },
  {
   "cell_type": "code",
   "execution_count": 20,
   "metadata": {},
   "outputs": [
    {
     "data": {
      "image/png": "[encoded data removed]",
      "text/plain": [
       "<Figure size 640x480 with 1 Axes>"
      ]
     },
     "metadata": {},
     "output_type": "display_data"
    },
    {
     "data": {
      "image/png": "[encoded data removed]",
      "text/plain": [
       "<Figure size 640x480 with 1 Axes>"
      ]
     },
     "metadata": {},
     "output_type": "display_data"
    }
   ],
   "source": [
    "with torch.no_grad():\n",
    "    plt.plot(Yval[0])\n",
    "    plt.plot(model(inputs=Xval)[0],'--')\n",
    "    plt.xlabel('k')\n",
    "    plt.ylabel('y')\n",
    "    plt.xlim(0,250)\n",
    "    plt.legend(['real','predicted'])\n",
    "    plt.show()\n",
    "    plt.plot(np.mean((Ytrain-model(inputs=Xtrain)).numpy()**2,axis=0)**0.5) #average over the error in batch\n",
    "    plt.title('batch averaged time-dependent error')\n",
    "    plt.ylabel('error')\n",
    "    plt.xlabel('i')\n",
    "    plt.grid()\n",
    "    plt.show()"
   ]
  }
 ],
 "metadata": {
  "kernelspec": {
   "display_name": "5aua0",
   "language": "python",
   "name": "python3"
  },
  "language_info": {
   "codemirror_mode": {
    "name": "ipython",
    "version": 3
   },
   "file_extension": ".py",
   "mimetype": "text/x-python",
   "name": "python",
   "nbconvert_exporter": "python",
   "pygments_lexer": "ipython3",
   "version": "3.10.11"
  },
  "orig_nbformat": 4
 },
 "nbformat": 4,
 "nbformat_minor": 2
}
