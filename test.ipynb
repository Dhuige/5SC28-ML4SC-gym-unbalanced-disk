{
 "cells": [
  {
   "cell_type": "code",
   "execution_count": 1,
   "metadata": {},
   "outputs": [],
   "source": [
    "from torch.utils.data import DataLoader, random_split\n",
    "from warnings import simplefilter\n",
    "from dataloader import *\n",
    "from Trainer import *\n",
    "import pandas as pd\n",
    "import numpy as np\n",
    "from ANN import *\n",
    "\n",
    "simplefilter(action='ignore', category=pd.errors.ParserWarning)\n",
    "simplefilter(action='ignore', category=UserWarning)\n",
    "simplefilter(action='ignore', category=FutureWarning)"
   ]
  },
  {
   "cell_type": "code",
   "execution_count": 2,
   "metadata": {},
   "outputs": [],
   "source": [
    "data = DATA() # Takes +- 15 seconds to load the data due to size of input for Xtrain and Ytrain\n",
    "Xtrain, Ytrain = data.Xtrain, data.Ytrain"
   ]
  },
  {
   "cell_type": "code",
   "execution_count": 3,
   "metadata": {},
   "outputs": [],
   "source": [
    "# Load data and set them up correctly for dataloader\n",
    "Dataset_train, Dataset_val, Dataset_test = CustomDataset(Xtrain.to_numpy(), Ytrain.to_numpy()).split_data([0.8, 0.199, 0.001])\n",
    "dl_train = DataLoader(Dataset_train, batch_size=32, shuffle=True)\n",
    "dl_val = DataLoader(Dataset_val, batch_size=32, shuffle=True)\n",
    "dl_test = DataLoader(Dataset_test, batch_size=32, shuffle=True)"
   ]
  },
  {
   "cell_type": "code",
   "execution_count": 4,
   "metadata": {},
   "outputs": [
    {
     "data": {
      "text/plain": [
       "ANN(\n",
       "  (fc1): Sequential(\n",
       "    (0): Linear(in_features=30, out_features=5, bias=True)\n",
       "    (1): LeakyReLU(negative_slope=0.01)\n",
       "    (2): Linear(in_features=5, out_features=1, bias=True)\n",
       "  )\n",
       ")"
      ]
     },
     "execution_count": 4,
     "metadata": {},
     "output_type": "execute_result"
    }
   ],
   "source": [
    "model = ANN(Xtrain.shape[1], Ytrain.shape[1])\n",
    "\n",
    "# Show model summary\n",
    "model"
   ]
  },
  {
   "cell_type": "code",
   "execution_count": 5,
   "metadata": {},
   "outputs": [
    {
     "name": "stdout",
     "output_type": "stream",
     "text": [
      "The device that will be used in training is Quadro P1000\n"
     ]
    }
   ],
   "source": [
    "train_module = Trainer(model, dl_train, dl_val, dl_test)"
   ]
  },
  {
   "cell_type": "code",
   "execution_count": 6,
   "metadata": {},
   "outputs": [
    {
     "name": "stdout",
     "output_type": "stream",
     "text": [
      "Epoch 1\n"
     ]
    },
    {
     "name": "stderr",
     "output_type": "stream",
     "text": [
      "Training: 100%|██████████| 2000/2000 [00:11<00:00, 180.73it/s, loss=0.000854]\n",
      "Validation: 100%|██████████| 498/498 [00:01<00:00, 284.16it/s, loss=0.000352]\n"
     ]
    },
    {
     "name": "stdout",
     "output_type": "stream",
     "text": [
      "Validation loss is 2.8453162574525753e-06\n",
      "Epoch 2\n"
     ]
    },
    {
     "name": "stderr",
     "output_type": "stream",
     "text": [
      "Training: 100%|██████████| 2000/2000 [00:08<00:00, 233.27it/s, loss=0.000159]\n",
      "Validation: 100%|██████████| 498/498 [00:01<00:00, 352.68it/s, loss=0.000238]\n"
     ]
    },
    {
     "name": "stdout",
     "output_type": "stream",
     "text": [
      "Validation loss is 1.0619164852557823e-06\n",
      "Epoch 3\n"
     ]
    },
    {
     "name": "stderr",
     "output_type": "stream",
     "text": [
      "Training: 100%|██████████| 2000/2000 [00:08<00:00, 246.41it/s, loss=0.00041] \n",
      "Validation: 100%|██████████| 498/498 [00:01<00:00, 329.14it/s, loss=0.000312]"
     ]
    },
    {
     "name": "stdout",
     "output_type": "stream",
     "text": [
      "Validation loss is 7.244837242351286e-07\n",
      "Epoch 4\n"
     ]
    },
    {
     "name": "stderr",
     "output_type": "stream",
     "text": [
      "\n",
      "Training: 100%|██████████| 2000/2000 [00:08<00:00, 234.67it/s, loss=7.19e-5] \n",
      "Validation: 100%|██████████| 498/498 [00:01<00:00, 297.31it/s, loss=0.000186]"
     ]
    },
    {
     "name": "stdout",
     "output_type": "stream",
     "text": [
      "Validation loss is 2.6571169912215034e-07\n",
      "Epoch 5\n"
     ]
    },
    {
     "name": "stderr",
     "output_type": "stream",
     "text": [
      "\n",
      "Training: 100%|██████████| 2000/2000 [00:08<00:00, 236.13it/s, loss=0.000174]\n",
      "Validation: 100%|██████████| 498/498 [00:01<00:00, 298.55it/s, loss=0.000164]"
     ]
    },
    {
     "name": "stdout",
     "output_type": "stream",
     "text": [
      "Validation loss is 2.5068425577495277e-07\n",
      "Epoch 6\n"
     ]
    },
    {
     "name": "stderr",
     "output_type": "stream",
     "text": [
      "\n",
      "Training: 100%|██████████| 2000/2000 [00:08<00:00, 229.35it/s, loss=0.000148]\n",
      "Validation: 100%|██████████| 498/498 [00:01<00:00, 336.48it/s, loss=0.000184]"
     ]
    },
    {
     "name": "stdout",
     "output_type": "stream",
     "text": [
      "Validation loss is 2.6897614868552766e-07\n",
      "Epoch 7\n"
     ]
    },
    {
     "name": "stderr",
     "output_type": "stream",
     "text": [
      "\n",
      "Training: 100%|██████████| 2000/2000 [00:09<00:00, 220.39it/s, loss=0.000103]\n",
      "Validation: 100%|██████████| 498/498 [00:01<00:00, 285.55it/s, loss=0.00012] "
     ]
    },
    {
     "name": "stdout",
     "output_type": "stream",
     "text": [
      "Validation loss is 2.4823829511408513e-07\n",
      "Epoch 8\n"
     ]
    },
    {
     "name": "stderr",
     "output_type": "stream",
     "text": [
      "\n",
      "Training: 100%|██████████| 2000/2000 [00:11<00:00, 168.09it/s, loss=4.22e-5] \n",
      "Validation: 100%|██████████| 498/498 [00:01<00:00, 283.75it/s, loss=7.09e-5] "
     ]
    },
    {
     "name": "stdout",
     "output_type": "stream",
     "text": [
      "Validation loss is 2.2197279803472465e-07\n",
      "Epoch 9\n"
     ]
    },
    {
     "name": "stderr",
     "output_type": "stream",
     "text": [
      "\n",
      "Training: 100%|██████████| 2000/2000 [00:09<00:00, 218.98it/s, loss=6.81e-5] \n",
      "Validation: 100%|██████████| 498/498 [00:01<00:00, 255.90it/s, loss=8.63e-5] \n"
     ]
    },
    {
     "name": "stdout",
     "output_type": "stream",
     "text": [
      "Validation loss is 1.821205546743764e-07\n",
      "Epoch 10\n"
     ]
    },
    {
     "name": "stderr",
     "output_type": "stream",
     "text": [
      "Training: 100%|██████████| 2000/2000 [00:09<00:00, 212.70it/s, loss=7.76e-5] \n",
      "Validation: 100%|██████████| 498/498 [00:01<00:00, 279.52it/s, loss=7.72e-5] \n"
     ]
    },
    {
     "name": "stdout",
     "output_type": "stream",
     "text": [
      "Validation loss is 1.982486658222927e-07\n"
     ]
    }
   ],
   "source": [
    "train_module.fit(epochs=10, batch_size=32)\n",
    "train_module.save_model('savefolderpytorch')"
   ]
  }
 ],
 "metadata": {
  "kernelspec": {
   "display_name": "5aua0",
   "language": "python",
   "name": "python3"
  },
  "language_info": {
   "codemirror_mode": {
    "name": "ipython",
    "version": 3
   },
   "file_extension": ".py",
   "mimetype": "text/x-python",
   "name": "python",
   "nbconvert_exporter": "python",
   "pygments_lexer": "ipython3",
   "version": "3.10.11"
  },
  "orig_nbformat": 4
 },
 "nbformat": 4,
 "nbformat_minor": 2
}
