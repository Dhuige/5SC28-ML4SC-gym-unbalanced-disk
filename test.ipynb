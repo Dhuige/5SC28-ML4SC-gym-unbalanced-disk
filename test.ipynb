{
 "cells": [
  {
   "cell_type": "code",
   "execution_count": 1,
   "metadata": {},
   "outputs": [],
   "source": [
    "from torch.utils.data import DataLoader, random_split\n",
    "from warnings import simplefilter\n",
    "from dataloader import *\n",
    "from Trainer import *\n",
    "import pandas as pd\n",
    "import numpy as np\n",
    "from ANN import *\n",
    "\n",
    "simplefilter(action='ignore', category=pd.errors.ParserWarning)\n",
    "simplefilter(action='ignore', category=UserWarning)\n",
    "simplefilter(action='ignore', category=FutureWarning)"
   ]
  },
  {
   "cell_type": "code",
   "execution_count": 2,
   "metadata": {},
   "outputs": [],
   "source": [
    "data = DATA() # Takes +- 15 seconds to load the data due to size of input for Xtrain and Ytrain\n",
    "Xtrain, Ytrain = data.Xtrain, data.Ytrain"
   ]
  },
  {
   "cell_type": "code",
   "execution_count": 3,
   "metadata": {},
   "outputs": [],
   "source": [
    "# Load data and set them up correctly for dataloader\n",
    "Dataset_train, Dataset_val, Dataset_test = CustomDataset(Xtrain.to_numpy(), Ytrain.to_numpy()).split_data([0.8, 0.199, 0.001])\n",
    "dl_train = DataLoader(Dataset_train, batch_size=32, shuffle=True)\n",
    "dl_val = DataLoader(Dataset_val, batch_size=32, shuffle=True)\n",
    "dl_test = DataLoader(Dataset_test, batch_size=32, shuffle=True)"
   ]
  },
  {
   "cell_type": "code",
   "execution_count": 4,
   "metadata": {},
   "outputs": [],
   "source": [
    "model = ANN(Xtrain.shape[1], Ytrain.shape[1])"
   ]
  },
  {
   "cell_type": "code",
   "execution_count": 5,
   "metadata": {},
   "outputs": [
    {
     "name": "stdout",
     "output_type": "stream",
     "text": [
      "The device that will be used in training is Quadro P1000\n"
     ]
    }
   ],
   "source": [
    "train_module = Trainer(model, dl_train, dl_val, dl_test)"
   ]
  },
  {
   "cell_type": "code",
   "execution_count": 6,
   "metadata": {},
   "outputs": [
    {
     "name": "stdout",
     "output_type": "stream",
     "text": [
      "Epoch 1\n"
     ]
    },
    {
     "name": "stderr",
     "output_type": "stream",
     "text": [
      "Training: 100%|██████████| 2000/2000 [00:11<00:00, 168.80it/s, loss=0.00289] \n",
      "Validation: 100%|██████████| 498/498 [00:02<00:00, 243.88it/s, loss=0.00158] "
     ]
    },
    {
     "name": "stdout",
     "output_type": "stream",
     "text": [
      "Validation loss is 5.507286701425488e-06\n",
      "Epoch 2\n"
     ]
    },
    {
     "name": "stderr",
     "output_type": "stream",
     "text": [
      "\n",
      "Training: 100%|██████████| 2000/2000 [00:10<00:00, 189.20it/s, loss=0.000659]\n",
      "Validation: 100%|██████████| 498/498 [00:01<00:00, 271.68it/s, loss=0.000832]"
     ]
    },
    {
     "name": "stdout",
     "output_type": "stream",
     "text": [
      "Validation loss is 2.075743256185969e-06\n",
      "Epoch 3\n"
     ]
    },
    {
     "name": "stderr",
     "output_type": "stream",
     "text": [
      "\n",
      "Training: 100%|██████████| 2000/2000 [00:10<00:00, 188.40it/s, loss=0.000299]\n",
      "Validation: 100%|██████████| 498/498 [00:01<00:00, 291.47it/s, loss=0.000207]"
     ]
    },
    {
     "name": "stdout",
     "output_type": "stream",
     "text": [
      "Validation loss is 1.0315315775368953e-06\n",
      "Epoch 4\n"
     ]
    },
    {
     "name": "stderr",
     "output_type": "stream",
     "text": [
      "\n",
      "Training: 100%|██████████| 2000/2000 [00:13<00:00, 149.01it/s, loss=0.000214]\n",
      "Validation: 100%|██████████| 498/498 [00:01<00:00, 325.17it/s, loss=0.000188]"
     ]
    },
    {
     "name": "stdout",
     "output_type": "stream",
     "text": [
      "Validation loss is 6.370513676920049e-07\n",
      "Epoch 5\n"
     ]
    },
    {
     "name": "stderr",
     "output_type": "stream",
     "text": [
      "\n",
      "Training: 100%|██████████| 2000/2000 [00:08<00:00, 230.53it/s, loss=0.000178]\n",
      "Validation: 100%|██████████| 498/498 [00:01<00:00, 318.82it/s, loss=8.95e-5] "
     ]
    },
    {
     "name": "stdout",
     "output_type": "stream",
     "text": [
      "Validation loss is 4.1016286669422564e-07\n",
      "Epoch 6\n"
     ]
    },
    {
     "name": "stderr",
     "output_type": "stream",
     "text": [
      "\n",
      "Training: 100%|██████████| 2000/2000 [00:10<00:00, 182.56it/s, loss=0.000132]\n",
      "Validation: 100%|██████████| 498/498 [00:02<00:00, 188.24it/s, loss=8.89e-5] "
     ]
    },
    {
     "name": "stdout",
     "output_type": "stream",
     "text": [
      "Validation loss is 2.2326360960835872e-07\n",
      "Epoch 7\n"
     ]
    },
    {
     "name": "stderr",
     "output_type": "stream",
     "text": [
      "\n",
      "Training: 100%|██████████| 2000/2000 [00:09<00:00, 211.47it/s, loss=0.000203]\n",
      "Validation: 100%|██████████| 498/498 [00:01<00:00, 319.44it/s, loss=7.26e-5] "
     ]
    },
    {
     "name": "stdout",
     "output_type": "stream",
     "text": [
      "Validation loss is 2.59923955634693e-07\n",
      "Epoch 8\n"
     ]
    },
    {
     "name": "stderr",
     "output_type": "stream",
     "text": [
      "\n",
      "Training: 100%|██████████| 2000/2000 [00:07<00:00, 266.26it/s, loss=0.000157]\n",
      "Validation: 100%|██████████| 498/498 [00:01<00:00, 323.45it/s, loss=6.23e-5] "
     ]
    },
    {
     "name": "stdout",
     "output_type": "stream",
     "text": [
      "Validation loss is 1.7799218413094796e-07\n",
      "Epoch 9\n"
     ]
    },
    {
     "name": "stderr",
     "output_type": "stream",
     "text": [
      "\n",
      "Training: 100%|██████████| 2000/2000 [00:07<00:00, 258.53it/s, loss=7.39e-5] \n",
      "Validation: 100%|██████████| 498/498 [00:01<00:00, 353.94it/s, loss=5.9e-5]  "
     ]
    },
    {
     "name": "stdout",
     "output_type": "stream",
     "text": [
      "Validation loss is 1.772092190931151e-07\n",
      "Epoch 10\n"
     ]
    },
    {
     "name": "stderr",
     "output_type": "stream",
     "text": [
      "\n",
      "Training: 100%|██████████| 2000/2000 [00:07<00:00, 263.21it/s, loss=0.000102]\n",
      "Validation: 100%|██████████| 498/498 [00:01<00:00, 336.26it/s, loss=3.86e-5] \n"
     ]
    },
    {
     "name": "stdout",
     "output_type": "stream",
     "text": [
      "Validation loss is 1.7977470728714364e-07\n"
     ]
    }
   ],
   "source": [
    "train_module.fit(epochs=10, batch_size=32)\n",
    "train_module.save_model('savefolderpytorch')"
   ]
  }
 ],
 "metadata": {
  "kernelspec": {
   "display_name": "5aua0",
   "language": "python",
   "name": "python3"
  },
  "language_info": {
   "codemirror_mode": {
    "name": "ipython",
    "version": 3
   },
   "file_extension": ".py",
   "mimetype": "text/x-python",
   "name": "python",
   "nbconvert_exporter": "python",
   "pygments_lexer": "ipython3",
   "version": "3.10.11"
  },
  "orig_nbformat": 4
 },
 "nbformat": 4,
 "nbformat_minor": 2
}
